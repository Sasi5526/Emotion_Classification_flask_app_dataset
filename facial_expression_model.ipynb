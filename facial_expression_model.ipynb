{
  "nbformat": 4,
  "nbformat_minor": 0,
  "metadata": {
    "colab": {
      "name": "facial_expression_model.ipynb",
      "provenance": [],
      "collapsed_sections": []
    },
    "kernelspec": {
      "name": "python3",
      "display_name": "Python 3"
    },
    "accelerator": "GPU"
  },
  "cells": [
    {
      "cell_type": "code",
      "metadata": {
        "colab": {
          "base_uri": "https://localhost:8080/"
        },
        "id": "pfHQ5CYpAHLL",
        "outputId": "9e92092b-f78a-4b58-94dd-1492edae7bf0"
      },
      "source": [
        "!git clone https://github.com/muxspace/facial_expressions"
      ],
      "execution_count": 1,
      "outputs": [
        {
          "output_type": "stream",
          "text": [
            "Cloning into 'facial_expressions'...\n",
            "remote: Enumerating objects: 14214, done.\u001b[K\n",
            "remote: Total 14214 (delta 0), reused 0 (delta 0), pack-reused 14214\u001b[K\n",
            "Receiving objects: 100% (14214/14214), 239.65 MiB | 42.40 MiB/s, done.\n",
            "Resolving deltas: 100% (223/223), done.\n",
            "Checking out files: 100% (13996/13996), done.\n"
          ],
          "name": "stdout"
        }
      ]
    },
    {
      "cell_type": "code",
      "metadata": {
        "id": "qvt2iDhXz4IG"
      },
      "source": [
        " "
      ],
      "execution_count": 1,
      "outputs": []
    },
    {
      "cell_type": "code",
      "metadata": {
        "id": "0g0LHJQmAbBC"
      },
      "source": [
        "import pandas as pd\n",
        "import cv2\n",
        "import os\n",
        "import matplotlib.pyplot as plt\n",
        "from sklearn.preprocessing import OneHotEncoder\n",
        "import numpy as np"
      ],
      "execution_count": 2,
      "outputs": []
    },
    {
      "cell_type": "code",
      "metadata": {
        "colab": {
          "base_uri": "https://localhost:8080/"
        },
        "id": "mgXJXMmHAbFp",
        "outputId": "00b73c34-251e-4549-d5b2-3962f7b1f502"
      },
      "source": [
        "!ls"
      ],
      "execution_count": 3,
      "outputs": [
        {
          "output_type": "stream",
          "text": [
            "facial_expressions  sample_data\n"
          ],
          "name": "stdout"
        }
      ]
    },
    {
      "cell_type": "code",
      "metadata": {
        "id": "s4NWBlAwAbIv"
      },
      "source": [
        "df = pd.read_csv('facial_expressions/data/legend.csv')"
      ],
      "execution_count": 4,
      "outputs": []
    },
    {
      "cell_type": "code",
      "metadata": {
        "colab": {
          "base_uri": "https://localhost:8080/",
          "height": 204
        },
        "id": "y7SWtFp4AbLs",
        "outputId": "51e0be8a-e13f-4ca9-9f8f-01d49c5b41f9"
      },
      "source": [
        "df.head()"
      ],
      "execution_count": 5,
      "outputs": [
        {
          "output_type": "execute_result",
          "data": {
            "text/html": [
              "<div>\n",
              "<style scoped>\n",
              "    .dataframe tbody tr th:only-of-type {\n",
              "        vertical-align: middle;\n",
              "    }\n",
              "\n",
              "    .dataframe tbody tr th {\n",
              "        vertical-align: top;\n",
              "    }\n",
              "\n",
              "    .dataframe thead th {\n",
              "        text-align: right;\n",
              "    }\n",
              "</style>\n",
              "<table border=\"1\" class=\"dataframe\">\n",
              "  <thead>\n",
              "    <tr style=\"text-align: right;\">\n",
              "      <th></th>\n",
              "      <th>user.id</th>\n",
              "      <th>image</th>\n",
              "      <th>emotion</th>\n",
              "    </tr>\n",
              "  </thead>\n",
              "  <tbody>\n",
              "    <tr>\n",
              "      <th>0</th>\n",
              "      <td>628</td>\n",
              "      <td>facial-expressions_2868588k.jpg</td>\n",
              "      <td>anger</td>\n",
              "    </tr>\n",
              "    <tr>\n",
              "      <th>1</th>\n",
              "      <td>628</td>\n",
              "      <td>facial-expressions_2868585k.jpg</td>\n",
              "      <td>surprise</td>\n",
              "    </tr>\n",
              "    <tr>\n",
              "      <th>2</th>\n",
              "      <td>628</td>\n",
              "      <td>facial-expressions_2868584k.jpg</td>\n",
              "      <td>disgust</td>\n",
              "    </tr>\n",
              "    <tr>\n",
              "      <th>3</th>\n",
              "      <td>628</td>\n",
              "      <td>facial-expressions_2868582k.jpg</td>\n",
              "      <td>fear</td>\n",
              "    </tr>\n",
              "    <tr>\n",
              "      <th>4</th>\n",
              "      <td>dwdii</td>\n",
              "      <td>Aaron_Eckhart_0001.jpg</td>\n",
              "      <td>neutral</td>\n",
              "    </tr>\n",
              "  </tbody>\n",
              "</table>\n",
              "</div>"
            ],
            "text/plain": [
              "  user.id                            image   emotion\n",
              "0     628  facial-expressions_2868588k.jpg     anger\n",
              "1     628  facial-expressions_2868585k.jpg  surprise\n",
              "2     628  facial-expressions_2868584k.jpg   disgust\n",
              "3     628  facial-expressions_2868582k.jpg      fear\n",
              "4   dwdii           Aaron_Eckhart_0001.jpg   neutral"
            ]
          },
          "metadata": {
            "tags": []
          },
          "execution_count": 5
        }
      ]
    },
    {
      "cell_type": "code",
      "metadata": {
        "colab": {
          "base_uri": "https://localhost:8080/"
        },
        "id": "Y3vxbVxkAbOo",
        "outputId": "5ee9ca5b-66c4-46a0-9363-8e0b0c0429a6"
      },
      "source": [
        "df['emotion'].unique()"
      ],
      "execution_count": 6,
      "outputs": [
        {
          "output_type": "execute_result",
          "data": {
            "text/plain": [
              "array(['anger', 'surprise', 'disgust', 'fear', 'neutral', 'happiness',\n",
              "       'sadness', 'contempt', 'NEUTRAL', 'SADNESS', 'DISGUST', 'FEAR',\n",
              "       'SURPRISE', 'ANGER', 'HAPPINESS'], dtype=object)"
            ]
          },
          "metadata": {
            "tags": []
          },
          "execution_count": 6
        }
      ]
    },
    {
      "cell_type": "code",
      "metadata": {
        "id": "kf1JrYxPAycM"
      },
      "source": [
        "df['emotion'] = df['emotion'].replace(['NEUTRAL'],'neutral')\n",
        "df['emotion'] = df['emotion'].replace(['SADNESS'],'sadness')\n",
        "df['emotion'] = df['emotion'].replace(['DISGUST'],'disgust')\n",
        "df['emotion'] = df['emotion'].replace(['FEAR'],'fear')\n",
        "df['emotion'] = df['emotion'].replace(['SURPRISE'],'surprise')\n",
        "df['emotion'] = df['emotion'].replace(['ANGER'],'anger')\n",
        "df['emotion'] = df['emotion'].replace(['HAPPINESS'],'happiness')"
      ],
      "execution_count": 7,
      "outputs": []
    },
    {
      "cell_type": "code",
      "metadata": {
        "colab": {
          "base_uri": "https://localhost:8080/"
        },
        "id": "M6hN4bTpB12V",
        "outputId": "ae4a7afa-bc37-486e-a5d1-540e1872b65d"
      },
      "source": [
        "df['emotion'].unique()"
      ],
      "execution_count": 8,
      "outputs": [
        {
          "output_type": "execute_result",
          "data": {
            "text/plain": [
              "array(['anger', 'surprise', 'disgust', 'fear', 'neutral', 'happiness',\n",
              "       'sadness', 'contempt'], dtype=object)"
            ]
          },
          "metadata": {
            "tags": []
          },
          "execution_count": 8
        }
      ]
    },
    {
      "cell_type": "code",
      "metadata": {
        "colab": {
          "base_uri": "https://localhost:8080/"
        },
        "id": "VXXJJmXwKOTx",
        "outputId": "2f1496a5-fb3f-4ecd-90b1-544ea147130b"
      },
      "source": [
        "df['emotion'].value_counts()"
      ],
      "execution_count": 9,
      "outputs": [
        {
          "output_type": "execute_result",
          "data": {
            "text/plain": [
              "neutral      6868\n",
              "happiness    5696\n",
              "surprise      368\n",
              "sadness       268\n",
              "anger         252\n",
              "disgust       208\n",
              "fear           21\n",
              "contempt        9\n",
              "Name: emotion, dtype: int64"
            ]
          },
          "metadata": {
            "tags": []
          },
          "execution_count": 9
        }
      ]
    },
    {
      "cell_type": "code",
      "metadata": {
        "id": "6QnLY3igKsxj"
      },
      "source": [
        "df = df[df['emotion'] != 'surprise']\n",
        "df['emotion'] = df['emotion'].replace(['anger','sadness','disgust','fear','contempt'],'Angry/Sad')"
      ],
      "execution_count": 10,
      "outputs": []
    },
    {
      "cell_type": "code",
      "metadata": {
        "colab": {
          "base_uri": "https://localhost:8080/"
        },
        "id": "MF84uXXi705Y",
        "outputId": "956b47bd-39c3-4dd3-a6af-5d284f664210"
      },
      "source": [
        "df['emotion'].value_counts()"
      ],
      "execution_count": 11,
      "outputs": [
        {
          "output_type": "execute_result",
          "data": {
            "text/plain": [
              "neutral      6868\n",
              "happiness    5696\n",
              "Angry/Sad     758\n",
              "Name: emotion, dtype: int64"
            ]
          },
          "metadata": {
            "tags": []
          },
          "execution_count": 11
        }
      ]
    },
    {
      "cell_type": "code",
      "metadata": {
        "colab": {
          "base_uri": "https://localhost:8080/"
        },
        "id": "KcYUh9YMAoL1",
        "outputId": "d94c8623-723e-4391-9d72-653c0e86a27e"
      },
      "source": [
        "emotions = df['emotion'].unique()\n",
        "print(emotions)"
      ],
      "execution_count": 12,
      "outputs": [
        {
          "output_type": "stream",
          "text": [
            "['Angry/Sad' 'neutral' 'happiness']\n"
          ],
          "name": "stdout"
        }
      ]
    },
    {
      "cell_type": "code",
      "metadata": {
        "id": "L8Oc2-hiAobL"
      },
      "source": [
        "def onehot(string,emotions):\n",
        "  l = []\n",
        "  for e in emotions:\n",
        "    if string == e:\n",
        "      l.append(1)\n",
        "    else:\n",
        "      l.append(0)\n",
        "  return l        "
      ],
      "execution_count": 13,
      "outputs": []
    },
    {
      "cell_type": "code",
      "metadata": {
        "colab": {
          "base_uri": "https://localhost:8080/"
        },
        "id": "0pkEhz0kMfP9",
        "outputId": "b45f830c-297d-497b-ad3d-8d81d6463dd7"
      },
      "source": [
        "df.columns"
      ],
      "execution_count": 14,
      "outputs": [
        {
          "output_type": "execute_result",
          "data": {
            "text/plain": [
              "Index(['user.id', 'image', 'emotion'], dtype='object')"
            ]
          },
          "metadata": {
            "tags": []
          },
          "execution_count": 14
        }
      ]
    },
    {
      "cell_type": "code",
      "metadata": {
        "colab": {
          "base_uri": "https://localhost:8080/",
          "height": 204
        },
        "id": "QUTEAS70LbIk",
        "outputId": "a9452be7-46ed-4620-9c4a-5407e334c407"
      },
      "source": [
        "df = df.reset_index(drop=True)\n",
        "df.head()"
      ],
      "execution_count": 15,
      "outputs": [
        {
          "output_type": "execute_result",
          "data": {
            "text/html": [
              "<div>\n",
              "<style scoped>\n",
              "    .dataframe tbody tr th:only-of-type {\n",
              "        vertical-align: middle;\n",
              "    }\n",
              "\n",
              "    .dataframe tbody tr th {\n",
              "        vertical-align: top;\n",
              "    }\n",
              "\n",
              "    .dataframe thead th {\n",
              "        text-align: right;\n",
              "    }\n",
              "</style>\n",
              "<table border=\"1\" class=\"dataframe\">\n",
              "  <thead>\n",
              "    <tr style=\"text-align: right;\">\n",
              "      <th></th>\n",
              "      <th>user.id</th>\n",
              "      <th>image</th>\n",
              "      <th>emotion</th>\n",
              "    </tr>\n",
              "  </thead>\n",
              "  <tbody>\n",
              "    <tr>\n",
              "      <th>0</th>\n",
              "      <td>628</td>\n",
              "      <td>facial-expressions_2868588k.jpg</td>\n",
              "      <td>Angry/Sad</td>\n",
              "    </tr>\n",
              "    <tr>\n",
              "      <th>1</th>\n",
              "      <td>628</td>\n",
              "      <td>facial-expressions_2868584k.jpg</td>\n",
              "      <td>Angry/Sad</td>\n",
              "    </tr>\n",
              "    <tr>\n",
              "      <th>2</th>\n",
              "      <td>628</td>\n",
              "      <td>facial-expressions_2868582k.jpg</td>\n",
              "      <td>Angry/Sad</td>\n",
              "    </tr>\n",
              "    <tr>\n",
              "      <th>3</th>\n",
              "      <td>dwdii</td>\n",
              "      <td>Aaron_Eckhart_0001.jpg</td>\n",
              "      <td>neutral</td>\n",
              "    </tr>\n",
              "    <tr>\n",
              "      <th>4</th>\n",
              "      <td>302</td>\n",
              "      <td>Aaron_Guiel_0001.jpg</td>\n",
              "      <td>happiness</td>\n",
              "    </tr>\n",
              "  </tbody>\n",
              "</table>\n",
              "</div>"
            ],
            "text/plain": [
              "  user.id                            image    emotion\n",
              "0     628  facial-expressions_2868588k.jpg  Angry/Sad\n",
              "1     628  facial-expressions_2868584k.jpg  Angry/Sad\n",
              "2     628  facial-expressions_2868582k.jpg  Angry/Sad\n",
              "3   dwdii           Aaron_Eckhart_0001.jpg    neutral\n",
              "4     302             Aaron_Guiel_0001.jpg  happiness"
            ]
          },
          "metadata": {
            "tags": []
          },
          "execution_count": 15
        }
      ]
    },
    {
      "cell_type": "code",
      "metadata": {
        "id": "3FXF_Ki-BuMk"
      },
      "source": [
        "img_dir = 'facial_expressions/images'\n",
        "\n",
        "training_data = []\n",
        "\n",
        "for i in range(len(df)):\n",
        "\n",
        "  name = df['image'][i]\n",
        "  emote = df['emotion'][i]\n",
        "\n",
        "  vec = onehot(emote,emotions)\n",
        "\n",
        "  img_array = cv2.imread(os.path.join(img_dir,name) ,cv2.IMREAD_GRAYSCALE)\n",
        "  img_array = cv2.resize(img_array, (100, 100))\n",
        "\n",
        "  training_data.append([img_array,vec])  "
      ],
      "execution_count": 16,
      "outputs": []
    },
    {
      "cell_type": "code",
      "metadata": {
        "colab": {
          "base_uri": "https://localhost:8080/",
          "height": 285
        },
        "id": "BEWOis_aBuXj",
        "outputId": "729cdfea-d27e-4485-fc30-47283fa7f5ce"
      },
      "source": [
        "plt.imshow(training_data[1][0], cmap='gray')  # graph it\n",
        "print(training_data[1][1])\n",
        "plt.show()  # display!"
      ],
      "execution_count": 17,
      "outputs": [
        {
          "output_type": "stream",
          "text": [
            "[1, 0, 0]\n"
          ],
          "name": "stdout"
        },
        {
          "output_type": "display_data",
          "data": {
            "image/png": "[encoded data removed]",
            "text/plain": [
              "<Figure size 432x288 with 1 Axes>"
            ]
          },
          "metadata": {
            "tags": [],
            "needs_background": "light"
          }
        }
      ]
    },
    {
      "cell_type": "code",
      "metadata": {
        "colab": {
          "base_uri": "https://localhost:8080/"
        },
        "id": "ZB61x7SdaQlg",
        "outputId": "887f0992-4286-4523-fa56-434c4c0b137a"
      },
      "source": [
        "len(training_data)"
      ],
      "execution_count": 18,
      "outputs": [
        {
          "output_type": "execute_result",
          "data": {
            "text/plain": [
              "13322"
            ]
          },
          "metadata": {
            "tags": []
          },
          "execution_count": 18
        }
      ]
    },
    {
      "cell_type": "code",
      "metadata": {
        "id": "4iJcbiGxGKab"
      },
      "source": [
        "import random\n",
        "\n",
        "random.shuffle(training_data)\n",
        "\n",
        "train_data = training_data[:13000] \n",
        "test_data = training_data[13000:]\n"
      ],
      "execution_count": 19,
      "outputs": []
    },
    {
      "cell_type": "code",
      "metadata": {
        "id": "47TzkqDmGKj6"
      },
      "source": [
        "X = []\n",
        "Y = []\n",
        "for features,label in train_data:\n",
        "    X.append(features)\n",
        "    Y.append(label)\n",
        "    \n",
        "Xtest = []\n",
        "Ytest = []\n",
        "for features,label in test_data:\n",
        "    Xtest.append(features)\n",
        "    Ytest.append(label)"
      ],
      "execution_count": 20,
      "outputs": []
    },
    {
      "cell_type": "code",
      "metadata": {
        "id": "xyaadga0GKtE"
      },
      "source": [
        "X = np.array(X).reshape(-1, 100, 100, 1)\n",
        "\n",
        "Y = np.array(Y) \n",
        "\n",
        "\n",
        "Xtest = np.array(Xtest).reshape(-1, 100, 100, 1)\n",
        "\n",
        "Ytest = np.array(Ytest)"
      ],
      "execution_count": 21,
      "outputs": []
    },
    {
      "cell_type": "code",
      "metadata": {
        "colab": {
          "base_uri": "https://localhost:8080/"
        },
        "id": "ngS1XqD6HGNA",
        "outputId": "3773a6d0-0da9-48fa-8147-1c1e07bd9413"
      },
      "source": [
        "X.shape"
      ],
      "execution_count": 22,
      "outputs": [
        {
          "output_type": "execute_result",
          "data": {
            "text/plain": [
              "(13000, 100, 100, 1)"
            ]
          },
          "metadata": {
            "tags": []
          },
          "execution_count": 22
        }
      ]
    },
    {
      "cell_type": "code",
      "metadata": {
        "colab": {
          "base_uri": "https://localhost:8080/"
        },
        "id": "cMm0Tcl6HGTZ",
        "outputId": "c724af93-c429-4ac1-a4e1-677c3046670c"
      },
      "source": [
        "Xtest.shape"
      ],
      "execution_count": 23,
      "outputs": [
        {
          "output_type": "execute_result",
          "data": {
            "text/plain": [
              "(322, 100, 100, 1)"
            ]
          },
          "metadata": {
            "tags": []
          },
          "execution_count": 23
        }
      ]
    },
    {
      "cell_type": "code",
      "metadata": {
        "id": "1KPfog74HGeC"
      },
      "source": [
        "X = X/255.0\n",
        "Xtest = Xtest/255.0"
      ],
      "execution_count": 24,
      "outputs": []
    },
    {
      "cell_type": "code",
      "metadata": {
        "id": "9hS1AYJgDe3B"
      },
      "source": [
        "import tensorflow as tf\n",
        "from tensorflow.keras.models import Sequential\n",
        "from tensorflow.keras.layers import Dense, Dropout, Activation, Flatten, Conv2D, MaxPooling2D"
      ],
      "execution_count": 25,
      "outputs": []
    },
    {
      "cell_type": "code",
      "metadata": {
        "id": "WytIeRGoDfF0"
      },
      "source": [
        "model = Sequential()\n",
        "\n",
        "model.add(Conv2D(256, (3, 3), input_shape=X.shape[1:]))\n",
        "model.add(Activation('relu'))\n",
        "model.add(MaxPooling2D(pool_size=(2, 2)))\n",
        "\n",
        "model.add(Conv2D(256, (3, 3)))\n",
        "model.add(Activation('relu'))\n",
        "model.add(MaxPooling2D(pool_size=(2, 2)))\n",
        "\n",
        "model.add(Flatten())  # this converts our 3D feature maps to 1D feature vectors\n",
        "\n",
        "model.add(Dense(64))\n",
        "model.add(Activation('relu'))\n",
        "\n",
        "model.add(Dense(len(emotions)))\n",
        "model.add(Activation('softmax'))\n",
        "\n",
        "model.compile(loss='categorical_crossentropy',\n",
        "              optimizer='adam',\n",
        "              metrics=['accuracy'])"
      ],
      "execution_count": 26,
      "outputs": []
    },
    {
      "cell_type": "code",
      "metadata": {
        "colab": {
          "base_uri": "https://localhost:8080/"
        },
        "id": "voOkD_LpDfPS",
        "outputId": "3aa44eba-ddb3-4b7b-c449-dae60e96174b"
      },
      "source": [
        "model.fit(X, Y, batch_size=32, epochs=10, validation_split=0.3)"
      ],
      "execution_count": 27,
      "outputs": [
        {
          "output_type": "stream",
          "text": [
            "Epoch 1/10\n",
            "285/285 [==============================] - 26s 65ms/step - loss: 0.8487 - accuracy: 0.5697 - val_loss: 0.5493 - val_accuracy: 0.8015\n",
            "Epoch 2/10\n",
            "285/285 [==============================] - 18s 62ms/step - loss: 0.5286 - accuracy: 0.7923 - val_loss: 0.5110 - val_accuracy: 0.8095\n",
            "Epoch 3/10\n",
            "285/285 [==============================] - 18s 62ms/step - loss: 0.4978 - accuracy: 0.8038 - val_loss: 0.4885 - val_accuracy: 0.8115\n",
            "Epoch 4/10\n",
            "285/285 [==============================] - 18s 62ms/step - loss: 0.4497 - accuracy: 0.8223 - val_loss: 0.4955 - val_accuracy: 0.8064\n",
            "Epoch 5/10\n",
            "285/285 [==============================] - 18s 62ms/step - loss: 0.3943 - accuracy: 0.8411 - val_loss: 0.5490 - val_accuracy: 0.7764\n",
            "Epoch 6/10\n",
            "285/285 [==============================] - 18s 62ms/step - loss: 0.3578 - accuracy: 0.8566 - val_loss: 0.5087 - val_accuracy: 0.8008\n",
            "Epoch 7/10\n",
            "285/285 [==============================] - 18s 62ms/step - loss: 0.3289 - accuracy: 0.8716 - val_loss: 0.4809 - val_accuracy: 0.8203\n",
            "Epoch 8/10\n",
            "285/285 [==============================] - 18s 62ms/step - loss: 0.2961 - accuracy: 0.8827 - val_loss: 0.5011 - val_accuracy: 0.8290\n",
            "Epoch 9/10\n",
            "285/285 [==============================] - 18s 62ms/step - loss: 0.2590 - accuracy: 0.8959 - val_loss: 0.5135 - val_accuracy: 0.8164\n",
            "Epoch 10/10\n",
            "285/285 [==============================] - 18s 63ms/step - loss: 0.2458 - accuracy: 0.9035 - val_loss: 0.5037 - val_accuracy: 0.8313\n"
          ],
          "name": "stdout"
        },
        {
          "output_type": "execute_result",
          "data": {
            "text/plain": [
              "<tensorflow.python.keras.callbacks.History at 0x7face05b8860>"
            ]
          },
          "metadata": {
            "tags": []
          },
          "execution_count": 27
        }
      ]
    },
    {
      "cell_type": "code",
      "metadata": {
        "id": "c1sFk_7cCHKT",
        "colab": {
          "base_uri": "https://localhost:8080/"
        },
        "outputId": "18c998b1-0f90-4680-8bef-281891848283"
      },
      "source": [
        "val_loss, val_acc = model.evaluate(Xtest, Ytest)\n",
        "print(val_loss)\n",
        "print(val_acc)"
      ],
      "execution_count": 28,
      "outputs": [
        {
          "output_type": "stream",
          "text": [
            "11/11 [==============================] - 0s 26ms/step - loss: 0.5411 - accuracy: 0.8416\n",
            "0.541074812412262\n",
            "0.8416149020195007\n"
          ],
          "name": "stdout"
        }
      ]
    },
    {
      "cell_type": "code",
      "metadata": {
        "id": "UueUabE0_9Cn"
      },
      "source": [
        "model_json = model.to_json()\n",
        "with open(\"model.json\", \"w\") as json_file:\n",
        "    json_file.write(model_json)\n",
        "# serialize weights to HDF5\n",
        "model.save_weights(\"model.h5\")"
      ],
      "execution_count": 29,
      "outputs": []
    }
  ]
}